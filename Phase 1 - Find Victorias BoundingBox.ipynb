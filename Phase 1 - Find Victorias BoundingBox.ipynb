{
 "cells": [
  {
   "cell_type": "code",
   "execution_count": null,
   "metadata": {},
   "outputs": [],
   "source": []
  },
  {
   "cell_type": "code",
   "execution_count": 2,
   "metadata": {},
   "outputs": [],
   "source": [
    "import fiona\n",
    "from rtree import index\n",
    "from shapely.geometry import asShape"
   ]
  },
  {
   "cell_type": "markdown",
   "metadata": {},
   "source": [
    "## Import Local Government Area ESRI Shapefile from 1270055003_lga_2017_aust_shape.zip\n",
    "- File was downlaoded from ABS website, I placed it outside of the repo one level up to avoid committing larger files."
   ]
  },
  {
   "cell_type": "code",
   "execution_count": 3,
   "metadata": {},
   "outputs": [],
   "source": [
    "australia = fiona.open('../1270055003_lga_2017_aust_shape/LGA_2017_AUST.shp')"
   ]
  },
  {
   "cell_type": "markdown",
   "metadata": {},
   "source": [
    "### Find Australia bounds"
   ]
  },
  {
   "cell_type": "code",
   "execution_count": 4,
   "metadata": {},
   "outputs": [
    {
     "data": {
      "text/plain": [
       "(96.81694139400008,\n",
       " -43.740509602999964,\n",
       " 167.99803499600011,\n",
       " -9.142175976999965)"
      ]
     },
     "execution_count": 4,
     "metadata": {},
     "output_type": "execute_result"
    }
   ],
   "source": [
    "australia.bounds"
   ]
  },
  {
   "cell_type": "markdown",
   "metadata": {},
   "source": [
    "##  We need to find the bounds for Victoria\n",
    "Each shapefile has its propertie key within its dictionary, we can use this to create a collection of lgas only in Victoria"
   ]
  },
  {
   "cell_type": "code",
   "execution_count": 5,
   "metadata": {},
   "outputs": [
    {
     "name": "stdout",
     "output_type": "stream",
     "text": [
      "OrderedDict([('LGA_CODE17', '10050'), ('LGA_NAME17', 'Albury (C)'), ('STE_CODE16', '1'), ('STE_NAME16', 'New South Wales'), ('AREASQKM17', 305.9459)]) \n",
      "\n",
      "OrderedDict([('LGA_CODE17', '10130'), ('LGA_NAME17', 'Armidale Regional (A)'), ('STE_CODE16', '1'), ('STE_NAME16', 'New South Wales'), ('AREASQKM17', 8620.699)]) \n",
      "\n",
      "OrderedDict([('LGA_CODE17', '10250'), ('LGA_NAME17', 'Ballina (A)'), ('STE_CODE16', '1'), ('STE_NAME16', 'New South Wales'), ('AREASQKM17', 484.9389)]) \n",
      "\n"
     ]
    },
    {
     "name": "stderr",
     "output_type": "stream",
     "text": [
      "/home/dc/.local/lib/python3.6/site-packages/fiona/collection.py:338: FionaDeprecationWarning: Collection slicing is deprecated and will be disabled in a future version.\n",
      "  return self.session.__getitem__(item)\n"
     ]
    }
   ],
   "source": [
    "for shape in australia[:3]:\n",
    "    print(shape['properties'], '\\n')"
   ]
  },
  {
   "cell_type": "code",
   "execution_count": 6,
   "metadata": {},
   "outputs": [],
   "source": [
    "victoria = [shape for shape in australia if shape['properties']['STE_NAME16'] == 'Victoria']"
   ]
  },
  {
   "cell_type": "markdown",
   "metadata": {},
   "source": [
    "## There should be approximately 80 Local Government Areas in Victoria"
   ]
  },
  {
   "cell_type": "code",
   "execution_count": 7,
   "metadata": {},
   "outputs": [
    {
     "data": {
      "text/plain": [
       "82"
      ]
     },
     "execution_count": 7,
     "metadata": {},
     "output_type": "execute_result"
    }
   ],
   "source": [
    "len(victoria)"
   ]
  },
  {
   "cell_type": "code",
   "execution_count": 8,
   "metadata": {},
   "outputs": [],
   "source": [
    "lga_shapes = [asShape(lga['geometry']) for lga in victoria if lga['geometry'] is not None]"
   ]
  },
  {
   "cell_type": "markdown",
   "metadata": {},
   "source": [
    "## 2 lgas did not have geometry values"
   ]
  },
  {
   "cell_type": "code",
   "execution_count": 9,
   "metadata": {},
   "outputs": [
    {
     "data": {
      "text/plain": [
       "80"
      ]
     },
     "execution_count": 9,
     "metadata": {},
     "output_type": "execute_result"
    }
   ],
   "source": [
    "len(lga_shapes)"
   ]
  },
  {
   "cell_type": "markdown",
   "metadata": {},
   "source": [
    "\n",
    "## Finally we can find out Victorias bounds"
   ]
  },
  {
   "cell_type": "code",
   "execution_count": 11,
   "metadata": {},
   "outputs": [],
   "source": [
    "rtree_index = index.Index()"
   ]
  },
  {
   "cell_type": "code",
   "execution_count": 14,
   "metadata": {},
   "outputs": [],
   "source": [
    "for index, shape in enumerate(lga_shapes):\n",
    "    rtree_index.insert(index, shape.bounds)"
   ]
  },
  {
   "cell_type": "code",
   "execution_count": 16,
   "metadata": {},
   "outputs": [],
   "source": [
    "victoria_bounds = rtree_index.bounds"
   ]
  },
  {
   "cell_type": "code",
   "execution_count": 17,
   "metadata": {},
   "outputs": [
    {
     "data": {
      "text/plain": [
       "[140.96168199600004,\n",
       " -39.159189527999956,\n",
       " 149.9762909950001,\n",
       " -33.98042558699996]"
      ]
     },
     "execution_count": 17,
     "metadata": {},
     "output_type": "execute_result"
    }
   ],
   "source": [
    "victoria_bounds"
   ]
  },
  {
   "cell_type": "code",
   "execution_count": null,
   "metadata": {},
   "outputs": [],
   "source": []
  }
 ],
 "metadata": {
  "kernelspec": {
   "display_name": "Python 3",
   "language": "python",
   "name": "python3"
  },
  "language_info": {
   "codemirror_mode": {
    "name": "ipython",
    "version": 3
   },
   "file_extension": ".py",
   "mimetype": "text/x-python",
   "name": "python",
   "nbconvert_exporter": "python",
   "pygments_lexer": "ipython3",
   "version": "3.6.5"
  },
  "toc": {
   "base_numbering": 1,
   "nav_menu": {},
   "number_sections": true,
   "sideBar": true,
   "skip_h1_title": false,
   "title_cell": "Table of Contents",
   "title_sidebar": "Contents",
   "toc_cell": false,
   "toc_position": {},
   "toc_section_display": true,
   "toc_window_display": false
  }
 },
 "nbformat": 4,
 "nbformat_minor": 2
}
